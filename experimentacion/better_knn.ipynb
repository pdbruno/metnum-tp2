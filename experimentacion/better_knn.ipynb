{
 "cells": [
  {
   "cell_type": "markdown",
   "id": "d440d57f",
   "metadata": {},
   "source": [
    "Primero corremos un script para el build de las librerias de c++ como modulos de python."
   ]
  },
  {
   "cell_type": "code",
   "execution_count": 1,
   "id": "decb5de0",
   "metadata": {},
   "outputs": [
    {
     "output_type": "stream",
     "name": "stdout",
     "text": [
      "mkdir: cannot create directory ‘build’: File exists\n",
      "-- The C compiler identification is GNU 9.3.0\n",
      "-- The CXX compiler identification is GNU 9.3.0\n",
      "-- Check for working C compiler: /usr/bin/cc\n",
      "-- Check for working C compiler: /usr/bin/cc -- works\n",
      "-- Detecting C compiler ABI info\n",
      "-- Detecting C compiler ABI info - done\n",
      "-- Detecting C compile features\n",
      "-- Detecting C compile features - done\n",
      "-- Check for working CXX compiler: /usr/bin/c++\n",
      "-- Check for working CXX compiler: /usr/bin/c++ -- works\n",
      "-- Detecting CXX compiler ABI info\n",
      "-- Detecting CXX compiler ABI info - done\n",
      "-- Detecting CXX compile features\n",
      "-- Detecting CXX compile features - done\n",
      "Release mode\n",
      "-- Found PythonInterp: /home/patricio/hdd/metnum-tp2/tp2/bin/python (found version \"3.8.5\") \n",
      "-- Found PythonLibs: /usr/lib/x86_64-linux-gnu/libpython3.8.so\n",
      "-- pybind11 v2.2.4\n",
      "-- Performing Test HAS_FLTO\n",
      "-- Performing Test HAS_FLTO - Success\n",
      "-- LTO enabled\n",
      "CMAKE_INSTALL_PREFIX=/home/patricio/hdd/metnum-tp2\n",
      "-- Configuring done\n",
      "-- Generating done\n",
      "-- Build files have been written to: /home/patricio/hdd/metnum-tp2/build\n",
      "\u001b[35m\u001b[1mScanning dependencies of target tp2\u001b[0m\n",
      "[  8%] \u001b[32mBuilding CXX object CMakeFiles/tp2.dir/src/main.cpp.o\u001b[0m\n",
      "[ 16%] \u001b[32mBuilding CXX object CMakeFiles/tp2.dir/src/knn.cpp.o\u001b[0m\n",
      "[ 25%] \u001b[32mBuilding CXX object CMakeFiles/tp2.dir/src/better_knn.cpp.o\u001b[0m\n",
      "[ 33%] \u001b[32mBuilding CXX object CMakeFiles/tp2.dir/src/pca.cpp.o\u001b[0m\n",
      "[ 41%] \u001b[32mBuilding CXX object CMakeFiles/tp2.dir/src/eigen.cpp.o\u001b[0m\n",
      "\u001b[01m\u001b[K/home/patricio/hdd/metnum-tp2/src/eigen.cpp:\u001b[m\u001b[K In function ‘\u001b[01m\u001b[Kstd::pair<double, Eigen::Matrix<double, -1, 1> > power_iteration(const Matrix&, unsigned int, double)\u001b[m\u001b[K’:\n",
      "\u001b[01m\u001b[K/home/patricio/hdd/metnum-tp2/src/eigen.cpp:13:23:\u001b[m\u001b[K \u001b[01;35m\u001b[Kwarning: \u001b[m\u001b[Kcomparison of integer expressions of different signedness: ‘\u001b[01m\u001b[Kint\u001b[m\u001b[K’ and ‘\u001b[01m\u001b[Kunsigned int\u001b[m\u001b[K’ [\u001b[01;35m\u001b[K-Wsign-compare\u001b[m\u001b[K]\n",
      "   13 |     for (int i = 0; \u001b[01;35m\u001b[Ki < num_iter\u001b[m\u001b[K && !very_close; i++) {\n",
      "      |                     \u001b[01;35m\u001b[K~~^~~~~~~~~~\u001b[m\u001b[K\n",
      "\u001b[01m\u001b[K/home/patricio/hdd/metnum-tp2/src/eigen.cpp:\u001b[m\u001b[K In function ‘\u001b[01m\u001b[Kstd::pair<Eigen::Matrix<double, -1, 1>, Eigen::Matrix<double, -1, -1, 1> > get_first_eigenvalues(const Matrix&, unsigned int, unsigned int, double)\u001b[m\u001b[K’:\n",
      "\u001b[01m\u001b[K/home/patricio/hdd/metnum-tp2/src/eigen.cpp:33:23:\u001b[m\u001b[K \u001b[01;35m\u001b[Kwarning: \u001b[m\u001b[Kcomparison of integer expressions of different signedness: ‘\u001b[01m\u001b[Kint\u001b[m\u001b[K’ and ‘\u001b[01m\u001b[Kunsigned int\u001b[m\u001b[K’ [\u001b[01;35m\u001b[K-Wsign-compare\u001b[m\u001b[K]\n",
      "   33 |     for (int i = 0; \u001b[01;35m\u001b[Ki < num\u001b[m\u001b[K; i++) {\n",
      "      |                     \u001b[01;35m\u001b[K~~^~~~~\u001b[m\u001b[K\n",
      "[ 50%] \u001b[32m\u001b[1mLinking CXX executable tp2\u001b[0m\n",
      "[ 50%] Built target tp2\n",
      "\u001b[35m\u001b[1mScanning dependencies of target metnum\u001b[0m\n",
      "[ 58%] \u001b[32mBuilding CXX object CMakeFiles/metnum.dir/src/metnum.cpp.o\u001b[0m\n",
      "[ 66%] \u001b[32mBuilding CXX object CMakeFiles/metnum.dir/src/knn.cpp.o\u001b[0m\n",
      "[ 75%] \u001b[32mBuilding CXX object CMakeFiles/metnum.dir/src/better_knn.cpp.o\u001b[0m\n",
      "[ 83%] \u001b[32mBuilding CXX object CMakeFiles/metnum.dir/src/pca.cpp.o\u001b[0m\n",
      "[ 91%] \u001b[32mBuilding CXX object CMakeFiles/metnum.dir/src/eigen.cpp.o\u001b[0m\n",
      "\u001b[01m\u001b[K/home/patricio/hdd/metnum-tp2/src/eigen.cpp:\u001b[m\u001b[K In function ‘\u001b[01m\u001b[Kstd::pair<double, Eigen::Matrix<double, -1, 1> > power_iteration(const Matrix&, unsigned int, double)\u001b[m\u001b[K’:\n",
      "\u001b[01m\u001b[K/home/patricio/hdd/metnum-tp2/src/eigen.cpp:13:23:\u001b[m\u001b[K \u001b[01;35m\u001b[Kwarning: \u001b[m\u001b[Kcomparison of integer expressions of different signedness: ‘\u001b[01m\u001b[Kint\u001b[m\u001b[K’ and ‘\u001b[01m\u001b[Kunsigned int\u001b[m\u001b[K’ [\u001b[01;35m\u001b[K-Wsign-compare\u001b[m\u001b[K]\n",
      "   13 |     for (int i = 0; \u001b[01;35m\u001b[Ki < num_iter\u001b[m\u001b[K && !very_close; i++) {\n",
      "      |                     \u001b[01;35m\u001b[K~~^~~~~~~~~~\u001b[m\u001b[K\n",
      "\u001b[01m\u001b[K/home/patricio/hdd/metnum-tp2/src/eigen.cpp:\u001b[m\u001b[K In function ‘\u001b[01m\u001b[Kstd::pair<Eigen::Matrix<double, -1, 1>, Eigen::Matrix<double, -1, -1, 1> > get_first_eigenvalues(const Matrix&, unsigned int, unsigned int, double)\u001b[m\u001b[K’:\n",
      "\u001b[01m\u001b[K/home/patricio/hdd/metnum-tp2/src/eigen.cpp:33:23:\u001b[m\u001b[K \u001b[01;35m\u001b[Kwarning: \u001b[m\u001b[Kcomparison of integer expressions of different signedness: ‘\u001b[01m\u001b[Kint\u001b[m\u001b[K’ and ‘\u001b[01m\u001b[Kunsigned int\u001b[m\u001b[K’ [\u001b[01;35m\u001b[K-Wsign-compare\u001b[m\u001b[K]\n",
      "   33 |     for (int i = 0; \u001b[01;35m\u001b[Ki < num\u001b[m\u001b[K; i++) {\n",
      "      |                     \u001b[01;35m\u001b[K~~^~~~~\u001b[m\u001b[K\n",
      "[100%] \u001b[32m\u001b[1mLinking CXX shared module metnum.cpython-38-x86_64-linux-gnu.so\u001b[0m\n",
      "[100%] Built target metnum\n",
      "\u001b[36mInstall the project...\u001b[0m\n",
      "-- Install configuration: \"Release\"\n",
      "-- Installing: /home/patricio/hdd/metnum-tp2/notebooks/metnum.cpython-38-x86_64-linux-gnu.so\n"
     ]
    }
   ],
   "source": [
    "!sh build.sh"
   ]
  },
  {
   "cell_type": "markdown",
   "id": "86043d3a",
   "metadata": {},
   "source": [
    "Importamos librerias necesarias"
   ]
  },
  {
   "cell_type": "code",
   "execution_count": 2,
   "id": "939f69df",
   "metadata": {},
   "outputs": [],
   "source": [
    "from pathlib import Path\n",
    "import matplotlib.pyplot as plt\n",
    "import numpy as np\n",
    "import pandas as pd\n",
    "from sklearn.metrics import accuracy_score\n",
    "from sklearn.model_selection import train_test_split\n",
    "import metnum"
   ]
  },
  {
   "source": [
    "Obtenemos el dataset de train.csv"
   ],
   "cell_type": "markdown",
   "metadata": {}
  },
  {
   "cell_type": "code",
   "execution_count": 4,
   "metadata": {},
   "outputs": [],
   "source": [
    "data = pd.read_csv(\"../data/train.csv\")"
   ]
  },
  {
   "cell_type": "code",
   "execution_count": 5,
   "id": "83b62ff6",
   "metadata": {},
   "outputs": [
    {
     "output_type": "stream",
     "name": "stdout",
     "text": [
      "Ahora tengo 33600 instancias de entrenamiento y 8400 de validación\n"
     ]
    }
   ],
   "source": [
    "X = data[data.columns[1:]].values\n",
    "y = data[\"label\"].values.reshape(-1, 1)\n",
    "limit = int(0.8 * X.shape[0]) \n",
    "\n",
    "X_train, y_train = X[:limit], y[:limit]\n",
    "X_val, y_val = X[limit:], y[limit:]\n",
    "\n",
    "print(f\"Ahora tengo {len(X_train)} instancias de entrenamiento y {len(X_val)} de validación\")"
   ]
  },
  {
   "cell_type": "markdown",
   "id": "a0f60047",
   "metadata": {},
   "source": [
    "Calculamos las accuracies de kNN y kNN mejorado para k de 1 a 40"
   ]
  },
  {
   "cell_type": "code",
   "execution_count": 1,
   "id": "8d8ac935",
   "metadata": {},
   "outputs": [
    {
     "output_type": "error",
     "ename": "NameError",
     "evalue": "name 'metnum' is not defined",
     "traceback": [
      "\u001b[0;31m---------------------------------------------------------------------------\u001b[0m",
      "\u001b[0;31mNameError\u001b[0m                                 Traceback (most recent call last)",
      "\u001b[0;32m<ipython-input-1-f4a1efe66777>\u001b[0m in \u001b[0;36m<module>\u001b[0;34m\u001b[0m\n\u001b[1;32m      1\u001b[0m \u001b[0;32mfor\u001b[0m \u001b[0mi\u001b[0m \u001b[0;32min\u001b[0m \u001b[0mrange\u001b[0m\u001b[0;34m(\u001b[0m\u001b[0;36m1\u001b[0m\u001b[0;34m,\u001b[0m \u001b[0;36m41\u001b[0m\u001b[0;34m)\u001b[0m\u001b[0;34m:\u001b[0m\u001b[0;34m\u001b[0m\u001b[0;34m\u001b[0m\u001b[0m\n\u001b[0;32m----> 2\u001b[0;31m     \u001b[0mbetter_knn\u001b[0m \u001b[0;34m=\u001b[0m \u001b[0mmetnum\u001b[0m\u001b[0;34m.\u001b[0m\u001b[0mBetterKNNClassifier\u001b[0m\u001b[0;34m(\u001b[0m\u001b[0mi\u001b[0m\u001b[0;34m)\u001b[0m\u001b[0;34m\u001b[0m\u001b[0;34m\u001b[0m\u001b[0m\n\u001b[0m\u001b[1;32m      3\u001b[0m     \u001b[0mbetter_knn\u001b[0m\u001b[0;34m.\u001b[0m\u001b[0mfit\u001b[0m\u001b[0;34m(\u001b[0m\u001b[0mX_train\u001b[0m\u001b[0;34m,\u001b[0m \u001b[0my_train\u001b[0m\u001b[0;34m)\u001b[0m\u001b[0;34m\u001b[0m\u001b[0;34m\u001b[0m\u001b[0m\n\u001b[1;32m      4\u001b[0m     \u001b[0mbetter_prediction\u001b[0m \u001b[0;34m=\u001b[0m \u001b[0mbetter_knn\u001b[0m\u001b[0;34m.\u001b[0m\u001b[0mpredict\u001b[0m\u001b[0;34m(\u001b[0m\u001b[0mX_val\u001b[0m\u001b[0;34m)\u001b[0m\u001b[0;34m\u001b[0m\u001b[0;34m\u001b[0m\u001b[0m\n\u001b[1;32m      5\u001b[0m     \u001b[0mbetter_acc\u001b[0m \u001b[0;34m=\u001b[0m \u001b[0maccuracy_score\u001b[0m\u001b[0;34m(\u001b[0m\u001b[0mbetter_prediction\u001b[0m\u001b[0;34m,\u001b[0m \u001b[0my_val\u001b[0m\u001b[0;34m)\u001b[0m\u001b[0;34m\u001b[0m\u001b[0;34m\u001b[0m\u001b[0m\n",
      "\u001b[0;31mNameError\u001b[0m: name 'metnum' is not defined"
     ]
    }
   ],
   "source": [
    "accuracies = []\n",
    "better_accuracies = []\n",
    "for i in range(1, 41):\n",
    "    better_knn = metnum.BetterKNNClassifier(i)\n",
    "    better_knn.fit(X_train, y_train)\n",
    "    better_prediction = better_knn.predict(X_val)\n",
    "    better_accuracies.append(accuracy_score(better_prediction, y_val))\n",
    "\n",
    "    knn = metnum.KNNClassifier(i)\n",
    "    knn.fit(X_train, y_train)\n",
    "    prediction = knn.predict(X_val)\n",
    "    accuracies.append(accuracy_score(prediction, y_val))\n"
   ]
  },
  {
   "cell_type": "code",
   "execution_count": null,
   "metadata": {},
   "outputs": [],
   "source": [
    "accuracies_np = np.array(accuracies)\n",
    "better_accuracies_np = np.array(better_accuracies)\n",
    "np.save('acc_knn_40.npy', accuracies_np)\n",
    "np.save('acc_better_knn_40.npy', better_accuracies_np)"
   ]
  },
  {
   "cell_type": "code",
   "execution_count": null,
   "metadata": {},
   "outputs": [],
   "source": [
    "plt.rc('font', size=10)\n",
    "plt.rc('axes', titlesize=10)\n",
    "plt.rc('axes', labelsize=10)\n",
    "plt.rc('xtick', labelsize=10)\n",
    "plt.rc('ytick', labelsize=10)\n",
    "plt.rc('legend', fontsize=10)\n",
    "plt.rc('figure', titlesize=10)\n",
    "\n",
    "plt.plot(range(1, 41), better_accuracies_np - accuracies_np, '-o')\n",
    "plt.xlabel('k', fontsize=20)\n",
    "plt.ylabel('Accuracy', fontsize=20)\n",
    "plt.title('Accuracy de kNN, k=1,...,130 con K-Fold Cross Validation, K=5', fontsize=20)\n",
    "plt.show()"
   ]
  }
 ],
 "metadata": {
  "kernelspec": {
   "display_name": "Python 3",
   "language": "python",
   "name": "python3"
  },
  "language_info": {
   "codemirror_mode": {
    "name": "ipython",
    "version": 3
   },
   "file_extension": ".py",
   "mimetype": "text/x-python",
   "name": "python",
   "nbconvert_exporter": "python",
   "pygments_lexer": "ipython3",
   "version": "3.8.5"
  }
 },
 "nbformat": 4,
 "nbformat_minor": 5
}