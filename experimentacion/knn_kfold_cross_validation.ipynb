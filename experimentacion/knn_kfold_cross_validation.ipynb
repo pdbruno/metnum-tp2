{
 "metadata": {
  "language_info": {
   "codemirror_mode": {
    "name": "ipython",
    "version": 3
   },
   "file_extension": ".py",
   "mimetype": "text/x-python",
   "name": "python",
   "nbconvert_exporter": "python",
   "pygments_lexer": "ipython3",
   "version": "3.6.5"
  },
  "orig_nbformat": 2,
  "kernelspec": {
   "name": "python365jvsc74a57bd08932031cf73a8e410f3edc8e8ac179c9fba9335faf5d1d5aae65c3865f890a7e",
   "display_name": "Python 3.6.5 64-bit ('tp2': conda)"
  }
 },
 "nbformat": 4,
 "nbformat_minor": 2,
 "cells": [
  {
   "source": [
    "En este experimento correremos kNN con distintos k para ciertos valores de K de K-Fold. Nuestra hipotesis a demostrar es que debido a la uniformidad de los dataset usados, deberiamos observar resultados parecidos tanto usando K-Fold como sin el. Primero corremos un script para el build de las librerias de c++ como modulos de python."
   ],
   "cell_type": "markdown",
   "metadata": {}
  },
  {
   "cell_type": "code",
   "execution_count": null,
   "metadata": {},
   "outputs": [],
   "source": [
    "!sh build.sh"
   ]
  },
  {
   "source": [
    "Importamos librerias necesarias\n",
    "\n"
   ],
   "cell_type": "markdown",
   "metadata": {}
  },
  {
   "cell_type": "code",
   "execution_count": 2,
   "metadata": {},
   "outputs": [],
   "source": [
    "import metnum\n",
    "import pandas as pd\n",
    "import numpy as np \n",
    "from sklearn.metrics import accuracy_score\n",
    "from sklearn.datasets import fetch_openml\n",
    "import time\n",
    "from pathlib import Path\n",
    "from utils import get_MNIST\n",
    "import matplotlib.pyplot as plt"
   ]
  },
  {
   "source": [
    "Obtenemos el dataset de mnist, partido en 4/5 de entrenamiento y 1/5 de validacion. El mismo esta shuffleado sobre si mismo."
   ],
   "cell_type": "markdown",
   "metadata": {}
  },
  {
   "cell_type": "code",
   "execution_count": 3,
   "metadata": {},
   "outputs": [
    {
     "output_type": "stream",
     "name": "stdout",
     "text": [
      "Ahora tengo 56000 instancias de entrenamiento y 14000 de validación\n"
     ]
    }
   ],
   "source": [
    "X_train, y_train, X_val, y_val = get_MNIST_XY(0.8, 10000)\n",
    "\n",
    "print(f\"Ahora tengo {len(X_train)} instancias de entrenamiento y {len(X_val)} de validación\")"
   ]
  },
  {
   "source": [
    "Seteamos los k que queremos testear y los distintos K de K-Fold"
   ],
   "cell_type": "markdown",
   "metadata": {}
  },
  {
   "source": [
    "best_ks = [2,3,4,5,6]\n",
    "kfold = [5,10,15,20]"
   ],
   "cell_type": "code",
   "metadata": {},
   "execution_count": null,
   "outputs": []
  },
  {
   "source": [],
   "cell_type": "markdown",
   "metadata": {}
  }
 ]
}