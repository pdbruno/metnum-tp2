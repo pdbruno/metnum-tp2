{
 "metadata": {
  "language_info": {
   "codemirror_mode": {
    "name": "ipython",
    "version": 3
   },
   "file_extension": ".py",
   "mimetype": "text/x-python",
   "name": "python",
   "nbconvert_exporter": "python",
   "pygments_lexer": "ipython3",
   "version": "3.8.5"
  },
  "orig_nbformat": 2,
  "kernelspec": {
   "name": "python3",
   "display_name": "Python 3.8.5 64-bit ('base': conda)",
   "metadata": {
    "interpreter": {
     "hash": "b7a72e0aecaf8ba1a38e5a558578c66160445e8a4907431cad47c18ab66b8d64"
    }
   }
  }
 },
 "nbformat": 4,
 "nbformat_minor": 2,
 "cells": [
  {
   "cell_type": "code",
   "execution_count": 3,
   "metadata": {},
   "outputs": [
    {
     "output_type": "stream",
     "name": "stdout",
     "text": [
      "mkdir: cannot create directory ‘build’: File exists\n",
      "/bin/bash: line 0: cd: build/: No such file or directory\n",
      "Release mode\n",
      "-- pybind11 v2.2.4\n",
      "CMAKE_INSTALL_PREFIX=/home/msorondo/Desktop/Metodos Numericos/TP2/metnum-tp2\n",
      "-- Configuring done\n",
      "-- Generating done\n",
      "-- Build files have been written to: /home/msorondo/Desktop/Metodos Numericos/TP2/metnum-tp2/build\n",
      "[ 50%] Built target tp2\n",
      "[100%] Built target metnum\n",
      "\u001b[36mInstall the project...\u001b[0m\n",
      "-- Install configuration: \"Release\"\n",
      "-- Up-to-date: /home/msorondo/Desktop/Metodos Numericos/TP2/metnum-tp2/notebooks/metnum.cpython-38-x86_64-linux-gnu.so\n",
      "cp: 'metnum.cpython-38-x86_64-linux-gnu.so' and '../scripts/metnum.cpython-38-x86_64-linux-gnu.so' are the same file\n"
     ]
    }
   ],
   "source": [
    "!cd .. && mkdir build\n",
    "!cd build/ && rm -rf *\n",
    "!cd ../build/ && cmake \\\n",
    "  -DPYTHON_EXECUTABLE=\"$(which python)\" \\\n",
    "  -DCMAKE_BUILD_TYPE=Release ..\n",
    "!cd ../build && make install\n",
    "!cp metnum.cpython-* ../scripts"
   ]
  },
  {
   "cell_type": "code",
   "execution_count": 4,
   "metadata": {},
   "outputs": [],
   "source": [
    "import metnum\n",
    "import pandas as pd\n",
    "import numpy as np \n",
    "from sklearn.metrics import accuracy_score\n",
    "import time"
   ]
  },
  {
   "cell_type": "code",
   "execution_count": 5,
   "metadata": {},
   "outputs": [],
   "source": [
    "\n",
    "df_train = pd.read_csv(\"../data/train.csv\")\n",
    "\n",
    "df_train = df_train.iloc[0:10000,:]\n",
    "\n",
    "X = df_train[df_train.columns[1:]].values\n",
    "y = df_train[\"label\"].values.reshape(-1, 1)\n",
    "\n",
    "\n",
    "limit = int(0.8 * X.shape[0]) \n",
    "\n",
    "X_train, y_train = X[:limit], y[:limit]\n",
    "X_val, y_val = X[limit:], y[limit:]"
   ]
  },
  {
   "cell_type": "code",
   "execution_count": 6,
   "metadata": {},
   "outputs": [
    {
     "output_type": "stream",
     "name": "stdout",
     "text": [
      "Ahora tengo 8000 instancias de entrenamiento y 2000 de validación\n",
      "Alpha: 1. Accuracy: 0.284. Duration: 2.1574090680000007\n",
      "Alpha: 4. Accuracy: 0.656. Duration: 2.090072268\n",
      "Alpha: 7. Accuracy: 0.852. Duration: 2.1419299690000013\n",
      "Alpha: 10. Accuracy: 0.895. Duration: 2.1627627890000003\n",
      "Alpha: 13. Accuracy: 0.922. Duration: 2.692037893\n",
      "Alpha: 16. Accuracy: 0.9375. Duration: 2.8484072030000007\n",
      "Alpha: 19. Accuracy: 0.9425. Duration: 3.2911465269999987\n",
      "Alpha: 22. Accuracy: 0.947. Duration: 4.132272206\n",
      "Alpha: 25. Accuracy: 0.9515. Duration: 3.510307199000003\n",
      "Alpha: 28. Accuracy: 0.9525. Duration: 3.6459313220000027\n",
      "Alpha: 31. Accuracy: 0.9545. Duration: 4.0580984529999995\n",
      "Alpha: 34. Accuracy: 0.953. Duration: 4.211636234000004\n",
      "Alpha: 37. Accuracy: 0.954. Duration: 5.442618029999998\n",
      "Alpha: 40. Accuracy: 0.9495. Duration: 6.6311973649999985\n",
      "Alpha: 43. Accuracy: 0.948. Duration: 5.839589947\n",
      "Alpha: 46. Accuracy: 0.947. Duration: 6.62193456\n",
      "Alpha: 49. Accuracy: 0.945. Duration: 7.602752377000002\n",
      "Alpha: 1. Accuracy: 0.9365. Duration: 16.02080076\n",
      "Alpha: 4. Accuracy: 0.9365. Duration: 16.097575761\n",
      "Alpha: 7. Accuracy: 0.9365. Duration: 15.720639927000008\n",
      "Alpha: 10. Accuracy: 0.9365. Duration: 15.151903470000008\n",
      "Alpha: 13. Accuracy: 0.9365. Duration: 15.659738892999997\n",
      "Alpha: 16. Accuracy: 0.9365. Duration: 15.434705336000007\n",
      "Alpha: 19. Accuracy: 0.9365. Duration: 15.50059615500001\n"
     ]
    },
    {
     "output_type": "error",
     "ename": "KeyboardInterrupt",
     "evalue": "",
     "traceback": [
      "\u001b[0;31m---------------------------------------------------------------------------\u001b[0m",
      "\u001b[0;31mKeyboardInterrupt\u001b[0m                         Traceback (most recent call last)",
      "\u001b[0;32m<ipython-input-6-44ad3b8f829e>\u001b[0m in \u001b[0;36m<module>\u001b[0;34m\u001b[0m\n\u001b[1;32m     28\u001b[0m     \u001b[0mclf_metnum\u001b[0m \u001b[0;34m=\u001b[0m \u001b[0mmetnum\u001b[0m\u001b[0;34m.\u001b[0m\u001b[0mKNNClassifier\u001b[0m\u001b[0;34m(\u001b[0m\u001b[0;36m18\u001b[0m\u001b[0;34m)\u001b[0m\u001b[0;34m\u001b[0m\u001b[0;34m\u001b[0m\u001b[0m\n\u001b[1;32m     29\u001b[0m     \u001b[0mclf_metnum\u001b[0m\u001b[0;34m.\u001b[0m\u001b[0mfit\u001b[0m\u001b[0;34m(\u001b[0m\u001b[0mX_train\u001b[0m\u001b[0;34m,\u001b[0m \u001b[0my_train\u001b[0m\u001b[0;34m)\u001b[0m\u001b[0;34m\u001b[0m\u001b[0;34m\u001b[0m\u001b[0m\n\u001b[0;32m---> 30\u001b[0;31m     \u001b[0macc\u001b[0m \u001b[0;34m=\u001b[0m \u001b[0maccuracy_score\u001b[0m\u001b[0;34m(\u001b[0m\u001b[0mclf_metnum\u001b[0m\u001b[0;34m.\u001b[0m\u001b[0mpredict\u001b[0m\u001b[0;34m(\u001b[0m\u001b[0mX_val\u001b[0m\u001b[0;34m)\u001b[0m\u001b[0;34m,\u001b[0m \u001b[0my_val\u001b[0m\u001b[0;34m)\u001b[0m\u001b[0;34m\u001b[0m\u001b[0;34m\u001b[0m\u001b[0m\n\u001b[0m\u001b[1;32m     31\u001b[0m     \u001b[0mend\u001b[0m \u001b[0;34m=\u001b[0m \u001b[0mtime\u001b[0m\u001b[0;34m.\u001b[0m\u001b[0mprocess_time\u001b[0m\u001b[0;34m(\u001b[0m\u001b[0;34m)\u001b[0m\u001b[0;34m\u001b[0m\u001b[0;34m\u001b[0m\u001b[0m\n\u001b[1;32m     32\u001b[0m     \u001b[0mtime_performance\u001b[0m \u001b[0;34m=\u001b[0m \u001b[0mend\u001b[0m \u001b[0;34m-\u001b[0m \u001b[0mstart\u001b[0m\u001b[0;34m\u001b[0m\u001b[0;34m\u001b[0m\u001b[0m\n",
      "\u001b[0;31mKeyboardInterrupt\u001b[0m: "
     ]
    }
   ],
   "source": [
    "\n",
    "assert len(X_train) == len(y_train)\n",
    "assert len(X_val) == len(y_val)\n",
    "\n",
    "print(f\"Ahora tengo {len(X_train)} instancias de entrenamiento y {len(X_val)} de validación\")\n",
    "\n",
    "accuracy_con_pca = []\n",
    "accuracy_sin_pca = []\n",
    "\n",
    "for i in range(1,50,3):\n",
    "    start =  time.process_time()\n",
    "    pca = metnum.PCA(i)\n",
    "    pca.fit(X_train)\n",
    "    X_train_PCA = pca.transform(X_train)\n",
    "\n",
    "    X_val_PCA = pca.transform(X_val)\n",
    "\n",
    "    clf_metnum = metnum.KNNClassifier(3)\n",
    "    clf_metnum.fit(X_train_PCA, y_train)\n",
    "    acc = accuracy_score(clf_metnum.predict(X_val_PCA), y_val)\n",
    "    end = time.process_time()\n",
    "    time_performance = end - start\n",
    "    accuracy_con_pca.append(acc)\n",
    "    print(\"Alpha: {}. Accuracy: {}. Duration: {}\".format(i, acc, time_performance))\n",
    "\n",
    "#for i in range(1,50,3):\n",
    " #   start = time.process_time()\n",
    "\n",
    "  #  clf_metnum = metnum.KNNClassifier(i)\n",
    "  #  clf_metnum.fit(X_train, y_train)\n",
    "  #  acc = accuracy_score(clf_metnum.predict(X_val), y_val)\n",
    "   # end = time.process_time()\n",
    "   # time_performance = end - start\n",
    "   # accuracy_sin_pca.append(acc)\n",
    "   # print(\"Alpha: {}. Accuracy: {}. Duration: {}\".format(i, acc, time_performance))"
   ]
  },
  {
   "cell_type": "code",
   "execution_count": null,
   "metadata": {},
   "outputs": [],
   "source": [
    "df_comparacion = pd.DataFrame([accuracy_con_pca,accuracy_sin_pca])\n",
    "df_comparacion.columns = [\"Con PCA\",\"Sin PCA\"]"
   ]
  }
 ]
}