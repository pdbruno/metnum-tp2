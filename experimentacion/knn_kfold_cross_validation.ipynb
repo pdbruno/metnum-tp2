{
 "cells": [
  {
   "cell_type": "markdown",
   "metadata": {},
   "source": [
    "En este experimento correremos kNN con distintos k para ciertos valores de K de K-Fold. Nuestra hipotesis a demostrar es que debido a la uniformidad de los dataset usados, deberiamos observar resultados parecidos tanto usando K-Fold como sin el. Primero corremos un script para el build de las librerias de c++ como modulos de python.\n",
    "Analizaremos con mas profunidad estos resultados en el informe dado junto a esta entrega."
   ]
  },
  {
   "cell_type": "code",
   "execution_count": null,
   "metadata": {},
   "outputs": [],
   "source": [
    "!sh build.sh"
   ]
  },
  {
   "cell_type": "markdown",
   "metadata": {},
   "source": [
    "Importamos librerias necesarias"
   ]
  },
  {
   "cell_type": "code",
   "execution_count": null,
   "metadata": {},
   "outputs": [],
   "source": [
    "import metnum\n",
    "import pandas as pd\n",
    "import time\n",
    "from utils import get_MNIST_XY\n",
    "import matplotlib.pyplot as plt\n",
    "from sklearn.model_selection import KFold\n",
    "from sklearn.metrics import accuracy_score\n",
    "from sklearn.datasets import fetch_openml\n",
    "import numpy as np\n",
    "import metnum\n",
    "from pathlib import Path"
   ]
  },
  {
   "cell_type": "markdown",
   "metadata": {},
   "source": [
    "Obtenemos el dataset de mnist, en este caso, solo 10000 elementos por temas de tiempo de ejecucion."
   ]
  },
  {
   "cell_type": "code",
   "execution_count": null,
   "metadata": {},
   "outputs": [],
   "source": [
    "X, y = get_MNIST_XY(0.8, 10000)"
   ]
  },
  {
   "cell_type": "markdown",
   "metadata": {},
   "source": [
    "Seteamos los k que queremos testear y los distintos K de K-Fold"
   ]
  },
  {
   "cell_type": "code",
   "execution_count": null,
   "metadata": {},
   "outputs": [],
   "source": [
    "best_ks = [2,3,4,5,6]\n",
    "kfold = [5,10,15,20]"
   ]
  },
  {
   "cell_type": "markdown",
   "metadata": {},
   "source": [
    "Creamos una matriz de resultados donde guardar estos. En el eje X tendremos los k y en el eje y los K de k-fold. Cada celda representa el rendimiento de ejecutar kNN con ese k, utilizando K-Fold con K."
   ]
  },
  {
   "cell_type": "code",
   "execution_count": null,
   "metadata": {},
   "outputs": [],
   "source": [
    "resultados = np.zeros((len(best_ks), len(kfold)))"
   ]
  },
  {
   "cell_type": "code",
   "execution_count": null,
   "metadata": {},
   "outputs": [],
   "source": [
    "for index_k, k in enumerate(best_ks):\n",
    "    print(f'Current k: {k}')\n",
    "    for index_K, split in enumerate(kfold):\n",
    "        print(f'Current K: {split}')\n",
    "        kf = KFold(n_splits=split, shuffle=True)\n",
    "        accuracies_by_split = 0\n",
    "        for train_index, test_index in kf.split(X):\n",
    "            X_train, X_test = X[train_index], X[test_index]\n",
    "            y_train, y_test = y[train_index], y[test_index]\n",
    "\n",
    "            clf_metnum = metnum.KNNClassifier(k)\n",
    "            clf_metnum.fit(X_train, y_train)\n",
    "            accuracies_by_split += accuracy_score(clf_metnum.predict(X_test), y_test)\n",
    "\n",
    "        resultados[index_k, index_K]= accuracies_by_split / split"
   ]
  },
  {
   "cell_type": "code",
   "execution_count": null,
   "metadata": {},
   "outputs": [],
   "source": [
    "resultados"
   ]
  },
  {
   "cell_type": "markdown",
   "metadata": {},
   "source": [
    "Generamos graficos para mostrar los rendimientos dichos con anterioridad, los graficos mostrados en el informe son iguales pero con labels en cada barra para mostrar valores exactos."
   ]
  },
  {
   "cell_type": "code",
   "execution_count": null,
   "metadata": {},
   "outputs": [],
   "source": [
    "def graficar(x,y, k):\n",
    "    plt.clf()\n",
    "    plt.ylim(0.8)\n",
    "    plt.yticks([0.8, 0.85, 0.9, 0.95])\n",
    "    plt.title(f'Accuracies para k = {k} para distinto K de k-fold')\n",
    "    plt.bar(x, y)\n",
    "    plt.show()"
   ]
  },
  {
   "cell_type": "code",
   "execution_count": null,
   "metadata": {},
   "outputs": [],
   "source": [
    "accuracies_k_2 = resultados[0].tolist()\n",
    "accuracies_k_3= resultados[1].tolist()\n",
    "accuracies_k_4= resultados[2].tolist()\n",
    "accuracies_k_5= resultados[3].tolist()\n",
    "accuracies_k_6= resultados[4].tolist()\n",
    "\n",
    "# Estos resultados fueron obtenidos de experimentos anteriores, dado que no poseen kfold.\n",
    "accuracies_k_2.insert(0, 0.9445) \n",
    "accuracies_k_3.insert(0, 0.9455)\n",
    "accuracies_k_4.insert(0, 0.9455)\n",
    "accuracies_k_5.insert(0, 0.9445)\n",
    "accuracies_k_6.insert(0, 0.9455)\n",
    "\n",
    "Kfolds = ['Sin K-Fold', '5', '10', '15', '20']\n",
    "graficar(kfold, accuracies_k_3, 3)\n",
    "graficar(kfold, accuracies_k_4, 4)\n",
    "graficar(kfold, accuracies_k_5, 5)\n",
    "graficar(kfold, accuracies_k_6, 6)"
   ]
  }
 ],
 "metadata": {
  "kernelspec": {
   "display_name": "Python 3",
   "language": "python",
   "name": "python3"
  },
  "language_info": {
   "codemirror_mode": {
    "name": "ipython",
    "version": 3
   },
   "file_extension": ".py",
   "mimetype": "text/x-python",
   "name": "python",
   "nbconvert_exporter": "python",
   "pygments_lexer": "ipython3",
   "version": "3.8.5"
  }
 },
 "nbformat": 4,
 "nbformat_minor": 2
}