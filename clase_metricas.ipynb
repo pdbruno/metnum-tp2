{
 "cells": [
  {
   "cell_type": "code",
   "execution_count": 1,
   "metadata": {},
   "outputs": [],
   "source": [
    "%matplotlib inline\n",
    "from sklearn.neighbors import KNeighborsClassifier as knn\n",
    "from sklearn.decomposition import PCA\n",
    "from sklearn.datasets import fetch_openml\n",
    "from sklearn import datasets\n",
    "import numpy as np\n",
    "import matplotlib.pyplot as plt\n"
   ]
  },
  {
   "cell_type": "markdown",
   "metadata": {},
   "source": [
    "## Cargo el dataset"
   ]
  },
  {
   "cell_type": "code",
   "execution_count": 2,
   "metadata": {},
   "outputs": [
    {
     "name": "stdout",
     "output_type": "stream",
     "text": [
      "Variable   Type       Data/Info\n",
      "-------------------------------\n",
      "X_all      ndarray    70000x784: 54880000 elems, type `int64`, 439040000 bytes (418.701171875 Mb)\n",
      "Y_all      ndarray    70000: 70000 elems, type `int64`, 560000 bytes (546.875 kb)\n"
     ]
    }
   ],
   "source": [
    "# Load data from https://www.openml.org/d/554\n",
    "X_all, Y_all = fetch_openml('mnist_784', version=1, return_X_y=True)\n",
    "\n",
    "# lo convierto a int\n",
    "Y_all = Y_all.astype(int)\n",
    "X_all = X_all.astype(int)\n",
    "\n",
    "# X_all.shape, Y_all.shape\n",
    "%whos ndarray\n"
   ]
  },
  {
   "cell_type": "markdown",
   "metadata": {},
   "source": [
    "## Muestro alguna imagen"
   ]
  },
  {
   "cell_type": "code",
   "execution_count": 3,
   "metadata": {},
   "outputs": [
    {
     "data": {
      "image/png": "[encoded data removed]",
      "text/plain": [
       "<Figure size 432x288 with 1 Axes>"
      ]
     },
     "metadata": {
      "needs_background": "light"
     },
     "output_type": "display_data"
    }
   ],
   "source": [
    "i_img = 0\n",
    "img = X_all[i_img]\n",
    "lbl = Y_all[i_img]\n",
    "\n",
    "img = img.reshape(28, 28)\n",
    "\n",
    "plt.imshow(img, cmap=\"Greys\");\n",
    "plt.title(\"{}\".format(lbl));\n"
   ]
  },
  {
   "cell_type": "markdown",
   "metadata": {},
   "source": [
    "## Creo un dataset para detección de un número en particular"
   ]
  },
  {
   "cell_type": "code",
   "execution_count": 4,
   "metadata": {},
   "outputs": [
    {
     "name": "stdout",
     "output_type": "stream",
     "text": [
      "[0 0 1 0 0 0 0 0 0 1 0 0 0 0 0 0 0 0 0 0 1 0 0 0 0 0 1 0 0 0 0 0 0 0 0 0 0\n",
      " 0 0 0 0 0 0 0 0 0 0 0 0 0 0 0 0 1 0 0 0 0 1 0 1 1 0 0 1 0 0 0 0 0 0 0 0 0\n",
      " 0 0 0 0 0 0 0 0 0 0 0 0 0 0 0 1 0 0 1 0 0 0 0 0 0 0]\n"
     ]
    },
    {
     "data": {
      "image/png": "[encoded data removed]",
      "text/plain": [
       "<Figure size 432x288 with 1 Axes>"
      ]
     },
     "metadata": {
      "needs_background": "light"
     },
     "output_type": "display_data"
    }
   ],
   "source": [
    "num_det = 4 # entre el 0 y el 9\n",
    "Y_all2 = Y_all.copy()\n",
    "X_all2 = X_all.copy()\n",
    "\n",
    "# pongo un 1 donde está el número y un 0 sino\n",
    "Y_all2[Y_all == num_det] = 1\n",
    "Y_all2[Y_all != num_det] = 0\n",
    "\n",
    "print(Y_all2[:100])\n",
    "\n",
    "# visualizo algunas muestras\n",
    "\n",
    "xtemp = X_all2[Y_all2 == 1][:4]\n",
    "\n",
    "img_mont = np.bmat([[xtemp[0].reshape(28,28),\n",
    "          xtemp[1].reshape(28,28),], \n",
    "         [xtemp[2].reshape(28,28),\n",
    "          xtemp[3].reshape(28,28),]\n",
    "        ])\n",
    "plt.imshow(img_mont, cmap=\"Greys\");\n",
    "\n"
   ]
  },
  {
   "cell_type": "markdown",
   "metadata": {},
   "source": [
    "### Selecciono dataset de train y de test"
   ]
  },
  {
   "cell_type": "code",
   "execution_count": 5,
   "metadata": {},
   "outputs": [
    {
     "name": "stdout",
     "output_type": "stream",
     "text": [
      "# train = 500, # test = 100 \n",
      "2\n",
      "[0 1]\n",
      "[0 1]\n"
     ]
    }
   ],
   "source": [
    "limit = 1000\n",
    "X = X_all2[:limit]\n",
    "Y = Y_all2[:limit]\n",
    "\n",
    "tlimit = 500 # nro training\n",
    "tlimit2 = 100 # nro testing\n",
    "X_train, Y_train = X[:tlimit], Y[:tlimit]\n",
    "X_test, Y_test = X[tlimit:tlimit+tlimit2], Y[tlimit:tlimit+tlimit2]\n",
    "\n",
    "print(\"# train = {}, # test = {} \".format( len(X_train), len(X_test))  )\n",
    "print(len(np.unique(Y_train)))\n",
    "print(np.unique(Y_train))\n",
    "print(np.unique(Y_test))"
   ]
  },
  {
   "cell_type": "markdown",
   "metadata": {},
   "source": [
    "## Computo PCA"
   ]
  },
  {
   "cell_type": "code",
   "execution_count": 6,
   "metadata": {},
   "outputs": [
    {
     "data": {
      "text/plain": [
       "((500, 784), (500, 13), (100, 784), (100, 13))"
      ]
     },
     "execution_count": 6,
     "metadata": {},
     "output_type": "execute_result"
    }
   ],
   "source": [
    "alpha = 13\n",
    "pca = PCA(n_components=alpha).fit(X_train)\n",
    "Xtc_train = pca.transform(X_train)\n",
    "Xtc_test = pca.transform(X_test)\n",
    "\n",
    "X_train.shape, Xtc_train.shape, X_test.shape, Xtc_test.shape\n"
   ]
  },
  {
   "cell_type": "markdown",
   "metadata": {},
   "source": [
    "## Computo kNN"
   ]
  },
  {
   "cell_type": "code",
   "execution_count": 7,
   "metadata": {},
   "outputs": [],
   "source": [
    "K = 5\n",
    "clf = knn(n_neighbors=K, p=2)\n",
    "clf.fit(Xtc_train, Y_train);\n",
    "\n",
    "# ?knn"
   ]
  },
  {
   "cell_type": "markdown",
   "metadata": {},
   "source": [
    "## Analizo el resultado"
   ]
  },
  {
   "cell_type": "code",
   "execution_count": 8,
   "metadata": {},
   "outputs": [
    {
     "name": "stdout",
     "output_type": "stream",
     "text": [
      "Deteccion del nro 4 con 0.97 de accuracy\n"
     ]
    },
    {
     "data": {
      "text/plain": [
       "array([[0, 0, 1],\n",
       "       [0, 0, 1],\n",
       "       [0, 0, 1],\n",
       "       [0, 0, 1],\n",
       "       [0, 0, 1],\n",
       "       [0, 0, 1],\n",
       "       [0, 0, 1],\n",
       "       [0, 0, 1],\n",
       "       [0, 0, 1],\n",
       "       [0, 0, 1],\n",
       "       [0, 0, 1],\n",
       "       [0, 0, 1],\n",
       "       [0, 0, 1],\n",
       "       [0, 0, 1],\n",
       "       [0, 0, 1]])"
      ]
     },
     "execution_count": 8,
     "metadata": {},
     "output_type": "execute_result"
    }
   ],
   "source": [
    "preds = clf.predict(Xtc_test)\n",
    "ok = preds == Y_test\n",
    "# preds.shape, Y_test.shape\n",
    "err = sum(ok) / len(ok)\n",
    "print(\"Deteccion del nro {} con {} de accuracy\".format(num_det,err))\n",
    "\n",
    "np.vstack((preds[10:25],Y_test[10:25],ok[10:25])).T\n"
   ]
  },
  {
   "cell_type": "markdown",
   "metadata": {},
   "source": [
    "### tp, tn, fp y fn"
   ]
  },
  {
   "cell_type": "code",
   "execution_count": 9,
   "metadata": {},
   "outputs": [
    {
     "data": {
      "text/plain": [
       "(5, 92, 1, 2)"
      ]
     },
     "execution_count": 9,
     "metadata": {},
     "output_type": "execute_result"
    }
   ],
   "source": [
    "tp = np.sum( np.logical_and(preds == 1, Y_test == 1) )\n",
    "tn = np.sum( np.logical_and(preds == 0, Y_test == 0) )\n",
    "fp = np.sum( np.logical_and(preds == 1, Y_test == 0) )\n",
    "fn = np.sum( np.logical_and(preds == 0, Y_test == 1) )\n",
    "\n",
    "tp, tn, fp, fn"
   ]
  },
  {
   "cell_type": "markdown",
   "metadata": {},
   "source": [
    "### Métricas de error"
   ]
  },
  {
   "cell_type": "code",
   "execution_count": 10,
   "metadata": {},
   "outputs": [
    {
     "name": "stdout",
     "output_type": "stream",
     "text": [
      "Acc = 0.97  Prec = 0.83  Rec = 0.71\n"
     ]
    }
   ],
   "source": [
    "acc = (tp + tn) / (tp+tn+fp+fn)\n",
    "prec = tp / (tp + fp)\n",
    "rec = tp / (tp + fn)\n",
    "\n",
    "print(\"Acc = {:.2f}  Prec = {:.2f}  Rec = {:.2f}\".format(acc, prec, rec))"
   ]
  },
  {
   "cell_type": "code",
   "execution_count": 11,
   "metadata": {},
   "outputs": [],
   "source": [
    "def metricas(preds, Y_test):\n",
    "    tp = np.sum( np.logical_and(preds == 1, Y_test == 1) )\n",
    "    tn = np.sum( np.logical_and(preds == 0, Y_test == 0) )\n",
    "    fp = np.sum( np.logical_and(preds == 1, Y_test == 0) )\n",
    "    fn = np.sum( np.logical_and(preds == 0, Y_test == 1) )\n",
    "    acc = (tp + tn) / (tp+tn+fp+fn)\n",
    "    if (tp + fp) == 0:\n",
    "        prec = 0\n",
    "    else:\n",
    "        prec = tp / (tp + fp)\n",
    "    if (tp + fn) == 0:\n",
    "        rec = 0\n",
    "    else:\n",
    "        rec = tp / (tp + fn)\n",
    "    return acc, prec, rec"
   ]
  },
  {
   "cell_type": "markdown",
   "metadata": {},
   "source": [
    "## Analizo la variación de las métricas en funcion de k"
   ]
  },
  {
   "cell_type": "code",
   "execution_count": 12,
   "metadata": {},
   "outputs": [],
   "source": [
    "import sys\n",
    "\n",
    "K_vals = np.arange(1,40,2)\n",
    "mets = np.zeros((len(K_vals), 3))\n",
    "               \n",
    "for i,k in enumerate(K_vals):\n",
    "    clf = knn(n_neighbors=k, p=2)\n",
    "    clf.fit(Xtc_train, Y_train)\n",
    "    preds = clf.predict(Xtc_test)\n",
    "    acc, prec, rec = metricas(preds, Y_test)\n",
    "    mets[i] = [acc,prec,rec]\n",
    "    \n",
    "# mets"
   ]
  },
  {
   "cell_type": "code",
   "execution_count": 13,
   "metadata": {},
   "outputs": [
    {
     "data": {
      "text/plain": [
       "<matplotlib.legend.Legend at 0x7eff762c4a90>"
      ]
     },
     "execution_count": 13,
     "metadata": {},
     "output_type": "execute_result"
    },
    {
     "data": {
      "image/png": "[encoded data removed]",
      "text/plain": [
       "<Figure size 432x288 with 1 Axes>"
      ]
     },
     "metadata": {
      "needs_background": "light"
     },
     "output_type": "display_data"
    }
   ],
   "source": [
    "plt.plot(K_vals,mets[:,0], 'b.-')\n",
    "plt.plot(K_vals,mets[:,1], 'r.-')\n",
    "plt.plot(K_vals,mets[:,2], 'g.-')\n",
    "plt.title(\"Metricas en funcion de K\")\n",
    "plt.xlabel(\"K\")\n",
    "plt.ylabel(\"%\")\n",
    "plt.axis([1, K_vals[-1], 0.6, 1])\n",
    "plt.gca().legend(('Acc','Prec','Recall'))\n",
    "\n",
    "\n"
   ]
  },
  {
   "cell_type": "markdown",
   "metadata": {},
   "source": [
    "## Analizo la variación de las métricas en funcion de alpha para K fijo"
   ]
  },
  {
   "cell_type": "code",
   "execution_count": 14,
   "metadata": {},
   "outputs": [
    {
     "data": {
      "text/plain": [
       "{1: array([[0., 0., 0.],\n",
       "        [0., 0., 0.],\n",
       "        [0., 0., 0.],\n",
       "        [0., 0., 0.],\n",
       "        [0., 0., 0.],\n",
       "        [0., 0., 0.],\n",
       "        [0., 0., 0.],\n",
       "        [0., 0., 0.],\n",
       "        [0., 0., 0.],\n",
       "        [0., 0., 0.]]),\n",
       " 3: array([[0., 0., 0.],\n",
       "        [0., 0., 0.],\n",
       "        [0., 0., 0.],\n",
       "        [0., 0., 0.],\n",
       "        [0., 0., 0.],\n",
       "        [0., 0., 0.],\n",
       "        [0., 0., 0.],\n",
       "        [0., 0., 0.],\n",
       "        [0., 0., 0.],\n",
       "        [0., 0., 0.]]),\n",
       " 15: array([[0., 0., 0.],\n",
       "        [0., 0., 0.],\n",
       "        [0., 0., 0.],\n",
       "        [0., 0., 0.],\n",
       "        [0., 0., 0.],\n",
       "        [0., 0., 0.],\n",
       "        [0., 0., 0.],\n",
       "        [0., 0., 0.],\n",
       "        [0., 0., 0.],\n",
       "        [0., 0., 0.]])}"
      ]
     },
     "execution_count": 14,
     "metadata": {},
     "output_type": "execute_result"
    }
   ],
   "source": [
    "alphas = np.arange(1,20,2)\n",
    "K_vals_fixes = np.array([1,3,15])\n",
    "\n",
    "dmets = { i : np.zeros((len(alphas), 3)) for i in K_vals_fixes}\n",
    "dmets"
   ]
  },
  {
   "cell_type": "code",
   "execution_count": 15,
   "metadata": {},
   "outputs": [
    {
     "data": {
      "text/plain": [
       "{1: array([[0.81      , 0.        , 0.        ],\n",
       "        [0.92      , 0.44444444, 0.57142857],\n",
       "        [0.91      , 0.4       , 0.57142857],\n",
       "        [0.95      , 0.625     , 0.71428571],\n",
       "        [0.95      , 0.66666667, 0.57142857],\n",
       "        [0.98      , 0.85714286, 0.85714286],\n",
       "        [0.98      , 0.85714286, 0.85714286],\n",
       "        [0.98      , 0.85714286, 0.85714286],\n",
       "        [0.97      , 0.75      , 0.85714286],\n",
       "        [0.96      , 0.66666667, 0.85714286]]),\n",
       " 3: array([[0.87      , 0.        , 0.        ],\n",
       "        [0.95      , 0.625     , 0.71428571],\n",
       "        [0.93      , 0.5       , 0.71428571],\n",
       "        [0.95      , 0.625     , 0.71428571],\n",
       "        [0.96      , 0.71428571, 0.71428571],\n",
       "        [0.98      , 0.85714286, 0.85714286],\n",
       "        [0.98      , 0.85714286, 0.85714286],\n",
       "        [0.96      , 0.66666667, 0.85714286],\n",
       "        [0.97      , 0.75      , 0.85714286],\n",
       "        [0.98      , 0.85714286, 0.85714286]]),\n",
       " 15: array([[0.93      , 0.        , 0.        ],\n",
       "        [0.94      , 0.57142857, 0.57142857],\n",
       "        [0.98      , 1.        , 0.71428571],\n",
       "        [0.97      , 0.83333333, 0.71428571],\n",
       "        [0.98      , 1.        , 0.71428571],\n",
       "        [0.98      , 1.        , 0.71428571],\n",
       "        [0.99      , 1.        , 0.85714286],\n",
       "        [0.99      , 1.        , 0.85714286],\n",
       "        [0.99      , 1.        , 0.85714286],\n",
       "        [0.99      , 1.        , 0.85714286]])}"
      ]
     },
     "execution_count": 15,
     "metadata": {},
     "output_type": "execute_result"
    }
   ],
   "source": [
    "for i,a in enumerate(alphas):\n",
    "    \n",
    "    pca = PCA(n_components=a).fit(X_train)\n",
    "    Xtc_train = pca.transform(X_train)\n",
    "    Xtc_test = pca.transform(X_test)\n",
    "\n",
    "    for j,k in enumerate(K_vals_fixes):\n",
    "        clf = knn(n_neighbors=k, p=2)\n",
    "        clf.fit(Xtc_train, Y_train)\n",
    "        preds = clf.predict(Xtc_test)\n",
    "        acc, prec, rec = metricas(preds, Y_test)\n",
    "        mets = dmets[k]\n",
    "        mets[i] = [acc,prec,rec]\n",
    "\n",
    "\n",
    "dmets"
   ]
  },
  {
   "cell_type": "markdown",
   "metadata": {},
   "source": [
    "## Metricas para PCA"
   ]
  },
  {
   "cell_type": "code",
   "execution_count": 16,
   "metadata": {},
   "outputs": [
    {
     "name": "stderr",
     "output_type": "stream",
     "text": [
      "/home/fpousa/.virtualenvs/metodos/lib/python3.6/site-packages/ipykernel_launcher.py:5: MatplotlibDeprecationWarning: Adding an axes using the same arguments as a previous axes currently reuses the earlier instance.  In a future version, a new instance will always be created and returned.  Meanwhile, this warning can be suppressed, and the future behavior ensured, by passing a unique label to each axes instance.\n",
      "  \"\"\"\n",
      "/home/fpousa/.virtualenvs/metodos/lib/python3.6/site-packages/ipykernel_launcher.py:10: MatplotlibDeprecationWarning: Adding an axes using the same arguments as a previous axes currently reuses the earlier instance.  In a future version, a new instance will always be created and returned.  Meanwhile, this warning can be suppressed, and the future behavior ensured, by passing a unique label to each axes instance.\n",
      "  # Remove the CWD from sys.path while we load stuff.\n",
      "/home/fpousa/.virtualenvs/metodos/lib/python3.6/site-packages/ipykernel_launcher.py:15: MatplotlibDeprecationWarning: Adding an axes using the same arguments as a previous axes currently reuses the earlier instance.  In a future version, a new instance will always be created and returned.  Meanwhile, this warning can be suppressed, and the future behavior ensured, by passing a unique label to each axes instance.\n",
      "  from ipykernel import kernelapp as app\n",
      "/home/fpousa/.virtualenvs/metodos/lib/python3.6/site-packages/ipykernel_launcher.py:5: MatplotlibDeprecationWarning: Adding an axes using the same arguments as a previous axes currently reuses the earlier instance.  In a future version, a new instance will always be created and returned.  Meanwhile, this warning can be suppressed, and the future behavior ensured, by passing a unique label to each axes instance.\n",
      "  \"\"\"\n",
      "/home/fpousa/.virtualenvs/metodos/lib/python3.6/site-packages/ipykernel_launcher.py:10: MatplotlibDeprecationWarning: Adding an axes using the same arguments as a previous axes currently reuses the earlier instance.  In a future version, a new instance will always be created and returned.  Meanwhile, this warning can be suppressed, and the future behavior ensured, by passing a unique label to each axes instance.\n",
      "  # Remove the CWD from sys.path while we load stuff.\n",
      "/home/fpousa/.virtualenvs/metodos/lib/python3.6/site-packages/ipykernel_launcher.py:15: MatplotlibDeprecationWarning: Adding an axes using the same arguments as a previous axes currently reuses the earlier instance.  In a future version, a new instance will always be created and returned.  Meanwhile, this warning can be suppressed, and the future behavior ensured, by passing a unique label to each axes instance.\n",
      "  from ipykernel import kernelapp as app\n"
     ]
    },
    {
     "data": {
      "text/plain": [
       "<matplotlib.legend.Legend at 0x7eff56f9cda0>"
      ]
     },
     "execution_count": 16,
     "metadata": {},
     "output_type": "execute_result"
    },
    {
     "data": {
      "image/png": "[encoded data removed]",
      "text/plain": [
       "<Figure size 432x288 with 3 Axes>"
      ]
     },
     "metadata": {
      "needs_background": "light"
     },
     "output_type": "display_data"
    }
   ],
   "source": [
    "line_styles = ['b.-', 'r.-', 'g.-', 'k.-', 'y.-', 'm.-']\n",
    "for j,k in enumerate(K_vals_fixes):\n",
    "    mets = dmets[k]\n",
    "\n",
    "    plt.subplot(3, 1, 1)\n",
    "    plt.plot(alphas,mets[:,0], line_styles[j])\n",
    "    plt.ylabel(\"Acc\")\n",
    "    plt.xticks([])\n",
    "\n",
    "    plt.subplot(3, 1, 2)\n",
    "    plt.plot(alphas,mets[:,1], line_styles[j])\n",
    "    plt.ylabel(\"Prec\")\n",
    "    plt.xticks([])\n",
    "    \n",
    "    plt.subplot(3, 1, 3)\n",
    "    plt.plot(alphas,mets[:,2], line_styles[j])\n",
    "    plt.ylabel(\"Rec\")\n",
    "    plt.xticks([])\n",
    "\n",
    "    \n",
    "plt.xlabel(\"alpha\")\n",
    "plt.xticks(alphas)\n",
    "# plt.axis([1, alphas[-1], 0.1, 1])\n",
    "plt.gca().legend([str(i) for i in K_vals_fixes])\n"
   ]
  },
  {
   "cell_type": "markdown",
   "metadata": {},
   "source": [
    "# Ahora analizo el comportamiento multiclase"
   ]
  },
  {
   "cell_type": "code",
   "execution_count": 17,
   "metadata": {},
   "outputs": [
    {
     "name": "stdout",
     "output_type": "stream",
     "text": [
      "# train = 5000, # test = 1000 \n",
      "Accuracy = 0.948\n"
     ]
    }
   ],
   "source": [
    "limit = 10000\n",
    "X = X_all[:limit]\n",
    "Y = Y_all[:limit]\n",
    "\n",
    "tlimit = 5000 # nro training\n",
    "tlimit2 = 1000 # nro testing\n",
    "X_train, Y_train = X[:tlimit], Y[:tlimit]\n",
    "X_test, Y_test = X[tlimit:tlimit+tlimit2], Y[tlimit:tlimit+tlimit2]\n",
    "\n",
    "print(\"# train = {}, # test = {} \".format( len(X_train), len(X_test))  )\n",
    "\n",
    "alpha = 25\n",
    "pca = PCA(n_components=alpha).fit(X_train)\n",
    "Xtc_train = pca.transform(X_train)\n",
    "Xtc_test = pca.transform(X_test)\n",
    "\n",
    "X_train.shape, Xtc_train.shape, X_test.shape, Xtc_test.shape\n",
    "\n",
    "K = 1\n",
    "clf = knn(n_neighbors=K, p=2)\n",
    "clf.fit(Xtc_train, Y_train);\n",
    "\n",
    "preds = clf.predict(Xtc_test)\n",
    "ok = preds == Y_test\n",
    "preds.shape, Y_test.shape\n",
    "err = sum(ok) / len(ok)\n",
    "print(\"Accuracy = {}\".format(err))\n"
   ]
  },
  {
   "cell_type": "code",
   "execution_count": 18,
   "metadata": {},
   "outputs": [
    {
     "data": {
      "image/png": "[encoded data removed]",
      "text/plain": [
       "<Figure size 432x288 with 1 Axes>"
      ]
     },
     "metadata": {
      "needs_background": "light"
     },
     "output_type": "display_data"
    }
   ],
   "source": [
    "from sklearn.metrics import confusion_matrix\n",
    "\n",
    "\n",
    "cm = confusion_matrix(Y_test,preds)\n",
    "\n",
    "plt.imshow(cm)\n",
    "plt.xticks(np.arange(0,10))\n",
    "plt.yticks(np.arange(0,10));"
   ]
  },
  {
   "cell_type": "code",
   "execution_count": 19,
   "metadata": {},
   "outputs": [
    {
     "name": "stdout",
     "output_type": "stream",
     "text": [
      "Confusion matrix, without normalization\n"
     ]
    },
    {
     "data": {
      "image/png": "[encoded data removed]",
      "text/plain": [
       "<Figure size 432x288 with 2 Axes>"
      ]
     },
     "metadata": {
      "needs_background": "light"
     },
     "output_type": "display_data"
    }
   ],
   "source": [
    "from plot_confusion_matrix import *\n",
    "\n",
    "classes =  np.array([0,1,2,3,4,5,6,7,8,9])\n",
    "plot_confusion_matrix(Y_test, preds, classes, normalize=False);\n"
   ]
  },
  {
   "cell_type": "code",
   "execution_count": null,
   "metadata": {},
   "outputs": [],
   "source": []
  }
 ],
 "metadata": {
  "@webio": {
   "lastCommId": null,
   "lastKernelId": null
  },
  "kernelspec": {
   "display_name": "Python 3",
   "language": "python",
   "name": "python3"
  },
  "language_info": {
   "codemirror_mode": {
    "name": "ipython",
    "version": 3
   },
   "file_extension": ".py",
   "mimetype": "text/x-python",
   "name": "python",
   "nbconvert_exporter": "python",
   "pygments_lexer": "ipython3",
   "version": "3.6.9"
  }
 },
 "nbformat": 4,
 "nbformat_minor": 2
}
