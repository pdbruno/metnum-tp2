{
 "cells": [
  {
   "cell_type": "markdown",
   "id": "d440d57f",
   "metadata": {},
   "source": [
    "Primero corremos un script para el build de las librerias de c++ como modulos de python."
   ]
  },
  {
   "cell_type": "code",
   "execution_count": 10,
   "id": "decb5de0",
   "metadata": {},
   "outputs": [
    {
     "output_type": "stream",
     "name": "stdout",
     "text": [
      "mkdir: cannot create directory ‘build’: File exists\n",
      "-- The C compiler identification is GNU 9.3.0\n",
      "-- The CXX compiler identification is GNU 9.3.0\n",
      "-- Check for working C compiler: /usr/bin/cc\n",
      "-- Check for working C compiler: /usr/bin/cc -- works\n",
      "-- Detecting C compiler ABI info\n",
      "-- Detecting C compiler ABI info - done\n",
      "-- Detecting C compile features\n",
      "-- Detecting C compile features - done\n",
      "-- Check for working CXX compiler: /usr/bin/c++\n",
      "-- Check for working CXX compiler: /usr/bin/c++ -- works\n",
      "-- Detecting CXX compiler ABI info\n",
      "-- Detecting CXX compiler ABI info - done\n",
      "-- Detecting CXX compile features\n",
      "-- Detecting CXX compile features - done\n",
      "Release mode\n",
      "-- Found PythonInterp: /home/patricio/hdd/metnum-tp2/tp2/bin/python (found version \"3.8.5\") \n",
      "-- Found PythonLibs: /usr/lib/x86_64-linux-gnu/libpython3.8.so\n",
      "-- pybind11 v2.2.4\n",
      "-- Performing Test HAS_FLTO\n",
      "-- Performing Test HAS_FLTO - Success\n",
      "-- LTO enabled\n",
      "CMAKE_INSTALL_PREFIX=/home/patricio/hdd/metnum-tp2\n",
      "-- Configuring done\n",
      "-- Generating done\n",
      "-- Build files have been written to: /home/patricio/hdd/metnum-tp2/build\n",
      "\u001b[35m\u001b[1mScanning dependencies of target tp2\u001b[0m\n",
      "[  8%] \u001b[32mBuilding CXX object CMakeFiles/tp2.dir/src/main.cpp.o\u001b[0m\n",
      "[ 16%] \u001b[32mBuilding CXX object CMakeFiles/tp2.dir/src/knn.cpp.o\u001b[0m\n",
      "[ 25%] \u001b[32mBuilding CXX object CMakeFiles/tp2.dir/src/better_knn.cpp.o\u001b[0m\n",
      "\u001b[01m\u001b[K/home/patricio/hdd/metnum-tp2/src/better_knn.cpp:\u001b[m\u001b[K In member function ‘\u001b[01m\u001b[Kvirtual int BetterKNNClassifier::_knn(Vector)\u001b[m\u001b[K’:\n",
      "\u001b[01m\u001b[K/home/patricio/hdd/metnum-tp2/src/better_knn.cpp:23:12:\u001b[m\u001b[K \u001b[01;35m\u001b[Kwarning: \u001b[m\u001b[Kvariable ‘\u001b[01m\u001b[Kmoda\u001b[m\u001b[K’ set but not used [\u001b[01;35m\u001b[K-Wunused-but-set-variable\u001b[m\u001b[K]\n",
      "   23 |     double \u001b[01;35m\u001b[Kmoda\u001b[m\u001b[K = 0;\n",
      "      |            \u001b[01;35m\u001b[K^~~~\u001b[m\u001b[K\n",
      "[ 33%] \u001b[32mBuilding CXX object CMakeFiles/tp2.dir/src/pca.cpp.o\u001b[0m\n",
      "[ 41%] \u001b[32mBuilding CXX object CMakeFiles/tp2.dir/src/eigen.cpp.o\u001b[0m\n",
      "\u001b[01m\u001b[K/home/patricio/hdd/metnum-tp2/src/eigen.cpp:\u001b[m\u001b[K In function ‘\u001b[01m\u001b[Kstd::pair<double, Eigen::Matrix<double, -1, 1> > power_iteration(const Matrix&, unsigned int, double)\u001b[m\u001b[K’:\n",
      "\u001b[01m\u001b[K/home/patricio/hdd/metnum-tp2/src/eigen.cpp:13:23:\u001b[m\u001b[K \u001b[01;35m\u001b[Kwarning: \u001b[m\u001b[Kcomparison of integer expressions of different signedness: ‘\u001b[01m\u001b[Kint\u001b[m\u001b[K’ and ‘\u001b[01m\u001b[Kunsigned int\u001b[m\u001b[K’ [\u001b[01;35m\u001b[K-Wsign-compare\u001b[m\u001b[K]\n",
      "   13 |     for (int i = 0; \u001b[01;35m\u001b[Ki < num_iter\u001b[m\u001b[K && !very_close; i++) {\n",
      "      |                     \u001b[01;35m\u001b[K~~^~~~~~~~~~\u001b[m\u001b[K\n",
      "\u001b[01m\u001b[K/home/patricio/hdd/metnum-tp2/src/eigen.cpp:\u001b[m\u001b[K In function ‘\u001b[01m\u001b[Kstd::pair<Eigen::Matrix<double, -1, 1>, Eigen::Matrix<double, -1, -1, 1> > get_first_eigenvalues(const Matrix&, unsigned int, unsigned int, double)\u001b[m\u001b[K’:\n",
      "\u001b[01m\u001b[K/home/patricio/hdd/metnum-tp2/src/eigen.cpp:33:23:\u001b[m\u001b[K \u001b[01;35m\u001b[Kwarning: \u001b[m\u001b[Kcomparison of integer expressions of different signedness: ‘\u001b[01m\u001b[Kint\u001b[m\u001b[K’ and ‘\u001b[01m\u001b[Kunsigned int\u001b[m\u001b[K’ [\u001b[01;35m\u001b[K-Wsign-compare\u001b[m\u001b[K]\n",
      "   33 |     for (int i = 0; \u001b[01;35m\u001b[Ki < num\u001b[m\u001b[K; i++) {\n",
      "      |                     \u001b[01;35m\u001b[K~~^~~~~\u001b[m\u001b[K\n",
      "[ 50%] \u001b[32m\u001b[1mLinking CXX executable tp2\u001b[0m\n",
      "[ 50%] Built target tp2\n",
      "\u001b[35m\u001b[1mScanning dependencies of target metnum\u001b[0m\n",
      "[ 58%] \u001b[32mBuilding CXX object CMakeFiles/metnum.dir/src/metnum.cpp.o\u001b[0m\n",
      "[ 66%] \u001b[32mBuilding CXX object CMakeFiles/metnum.dir/src/knn.cpp.o\u001b[0m\n",
      "[ 75%] \u001b[32mBuilding CXX object CMakeFiles/metnum.dir/src/better_knn.cpp.o\u001b[0m\n",
      "\u001b[01m\u001b[K/home/patricio/hdd/metnum-tp2/src/better_knn.cpp:\u001b[m\u001b[K In member function ‘\u001b[01m\u001b[Kvirtual int BetterKNNClassifier::_knn(Vector)\u001b[m\u001b[K’:\n",
      "\u001b[01m\u001b[K/home/patricio/hdd/metnum-tp2/src/better_knn.cpp:23:12:\u001b[m\u001b[K \u001b[01;35m\u001b[Kwarning: \u001b[m\u001b[Kvariable ‘\u001b[01m\u001b[Kmoda\u001b[m\u001b[K’ set but not used [\u001b[01;35m\u001b[K-Wunused-but-set-variable\u001b[m\u001b[K]\n",
      "   23 |     double \u001b[01;35m\u001b[Kmoda\u001b[m\u001b[K = 0;\n",
      "      |            \u001b[01;35m\u001b[K^~~~\u001b[m\u001b[K\n",
      "[ 83%] \u001b[32mBuilding CXX object CMakeFiles/metnum.dir/src/pca.cpp.o\u001b[0m\n",
      "[ 91%] \u001b[32mBuilding CXX object CMakeFiles/metnum.dir/src/eigen.cpp.o\u001b[0m\n",
      "\u001b[01m\u001b[K/home/patricio/hdd/metnum-tp2/src/eigen.cpp:\u001b[m\u001b[K In function ‘\u001b[01m\u001b[Kstd::pair<double, Eigen::Matrix<double, -1, 1> > power_iteration(const Matrix&, unsigned int, double)\u001b[m\u001b[K’:\n",
      "\u001b[01m\u001b[K/home/patricio/hdd/metnum-tp2/src/eigen.cpp:13:23:\u001b[m\u001b[K \u001b[01;35m\u001b[Kwarning: \u001b[m\u001b[Kcomparison of integer expressions of different signedness: ‘\u001b[01m\u001b[Kint\u001b[m\u001b[K’ and ‘\u001b[01m\u001b[Kunsigned int\u001b[m\u001b[K’ [\u001b[01;35m\u001b[K-Wsign-compare\u001b[m\u001b[K]\n",
      "   13 |     for (int i = 0; \u001b[01;35m\u001b[Ki < num_iter\u001b[m\u001b[K && !very_close; i++) {\n",
      "      |                     \u001b[01;35m\u001b[K~~^~~~~~~~~~\u001b[m\u001b[K\n",
      "\u001b[01m\u001b[K/home/patricio/hdd/metnum-tp2/src/eigen.cpp:\u001b[m\u001b[K In function ‘\u001b[01m\u001b[Kstd::pair<Eigen::Matrix<double, -1, 1>, Eigen::Matrix<double, -1, -1, 1> > get_first_eigenvalues(const Matrix&, unsigned int, unsigned int, double)\u001b[m\u001b[K’:\n",
      "\u001b[01m\u001b[K/home/patricio/hdd/metnum-tp2/src/eigen.cpp:33:23:\u001b[m\u001b[K \u001b[01;35m\u001b[Kwarning: \u001b[m\u001b[Kcomparison of integer expressions of different signedness: ‘\u001b[01m\u001b[Kint\u001b[m\u001b[K’ and ‘\u001b[01m\u001b[Kunsigned int\u001b[m\u001b[K’ [\u001b[01;35m\u001b[K-Wsign-compare\u001b[m\u001b[K]\n",
      "   33 |     for (int i = 0; \u001b[01;35m\u001b[Ki < num\u001b[m\u001b[K; i++) {\n",
      "      |                     \u001b[01;35m\u001b[K~~^~~~~\u001b[m\u001b[K\n",
      "[100%] \u001b[32m\u001b[1mLinking CXX shared module metnum.cpython-38-x86_64-linux-gnu.so\u001b[0m\n",
      "[100%] Built target metnum\n",
      "\u001b[36mInstall the project...\u001b[0m\n",
      "-- Install configuration: \"Release\"\n",
      "-- Installing: /home/patricio/hdd/metnum-tp2/notebooks/metnum.cpython-38-x86_64-linux-gnu.so\n"
     ]
    }
   ],
   "source": [
    "!sh build.sh"
   ]
  },
  {
   "cell_type": "markdown",
   "id": "86043d3a",
   "metadata": {},
   "source": [
    "Importamos librerias necesarias"
   ]
  },
  {
   "cell_type": "code",
   "execution_count": 1,
   "id": "939f69df",
   "metadata": {},
   "outputs": [],
   "source": [
    "from pathlib import Path\n",
    "import matplotlib.pyplot as plt\n",
    "import numpy as np\n",
    "import pandas as pd\n",
    "from sklearn.metrics import accuracy_score\n",
    "from sklearn.model_selection import train_test_split\n"
   ]
  },
  {
   "source": [
    "Obtenemos el dataset de MNIST que contiene 70000 imagenes, partido en 4/5 de entrenamiento y 1/5 de validacion. El mismo esta shuffleado sobre si mismo."
   ],
   "cell_type": "markdown",
   "metadata": {}
  },
  {
   "cell_type": "code",
   "execution_count": 2,
   "metadata": {},
   "outputs": [],
   "source": [
    "import metnum"
   ]
  },
  {
   "cell_type": "code",
   "execution_count": 9,
   "metadata": {},
   "outputs": [],
   "source": [
    "data = pd.read_csv(\"../data/train.csv\")"
   ]
  },
  {
   "cell_type": "code",
   "execution_count": 10,
   "id": "83b62ff6",
   "metadata": {},
   "outputs": [
    {
     "output_type": "stream",
     "name": "stdout",
     "text": [
      "Ahora tengo 8000 instancias de entrenamiento y 2000 de validación\n"
     ]
    }
   ],
   "source": [
    "X = data[data.columns[1:]].values\n",
    "y = data[\"label\"].values.reshape(-1, 1)\n",
    "limit = int(0.8 * X.shape[0]) \n",
    "\n",
    "X_train, y_train = X[:limit], y[:limit]\n",
    "X_val, y_val = X[limit:], y[limit:]\n",
    "\n",
    "print(f\"Ahora tengo {len(X_train)} instancias de entrenamiento y {len(X_val)} de validación\")"
   ]
  },
  {
   "cell_type": "markdown",
   "id": "a0f60047",
   "metadata": {},
   "source": [
    "Ahora buscamos tenemos como objetivo buscar el mejor par de alpha (PCA) y k (kNN). Para esto tomamos los mejores alphas que encontramos en relación a su accuracy y performance y para cada ejecutamos el algoritmo con distintos valores de k"
   ]
  },
  {
   "cell_type": "code",
   "execution_count": 11,
   "id": "8d8ac935",
   "metadata": {},
   "outputs": [
    {
     "output_type": "stream",
     "name": "stdout",
     "text": [
      "accuracy normal: 0.956\naccuracy mejorada: 0.956\n"
     ]
    }
   ],
   "source": [
    "better_knn = metnum.BetterKNNClassifier(3)\n",
    "better_knn.fit(X_train, y_train)\n",
    "better_prediction = better_knn.predict(X_val)\n",
    "better_acc = accuracy_score(better_prediction, y_val)\n",
    "\n",
    "knn = metnum.KNNClassifier(3)\n",
    "knn.fit(X_train, y_train)\n",
    "prediction = knn.predict(X_val)\n",
    "acc = accuracy_score(prediction, y_val)\n",
    "\n",
    "\n",
    "print(f'accuracy normal: {acc}')\n",
    "print(f'accuracy mejorada: {better_acc}')\n",
    "print(better_acc - acc)"
   ]
  },
  {
   "cell_type": "code",
   "execution_count": null,
   "metadata": {},
   "outputs": [],
   "source": []
  }
 ],
 "metadata": {
  "kernelspec": {
   "display_name": "Python 3",
   "language": "python",
   "name": "python3"
  },
  "language_info": {
   "codemirror_mode": {
    "name": "ipython",
    "version": 3
   },
   "file_extension": ".py",
   "mimetype": "text/x-python",
   "name": "python",
   "nbconvert_exporter": "python",
   "pygments_lexer": "ipython3",
   "version": "3.8.5"
  }
 },
 "nbformat": 4,
 "nbformat_minor": 5
}