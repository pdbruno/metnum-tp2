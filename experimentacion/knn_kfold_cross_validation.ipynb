{
 "metadata": {
  "language_info": {
   "codemirror_mode": {
    "name": "ipython",
    "version": 3
   },
   "file_extension": ".py",
   "mimetype": "text/x-python",
   "name": "python",
   "nbconvert_exporter": "python",
   "pygments_lexer": "ipython3",
   "version": "3.6.5"
  },
  "orig_nbformat": 2,
  "kernelspec": {
   "name": "python365jvsc74a57bd08932031cf73a8e410f3edc8e8ac179c9fba9335faf5d1d5aae65c3865f890a7e",
   "display_name": "Python 3.6.5 64-bit ('tp2': conda)"
  }
 },
 "nbformat": 4,
 "nbformat_minor": 2,
 "cells": [
  {
   "source": [
    "En este experimento correremos kNN con distintos k para ciertos valores de K de K-Fold. Nuestra hipotesis a demostrar es que debido a la uniformidad de los dataset usados, deberiamos observar resultados parecidos tanto usando K-Fold como sin el. Primero corremos un script para el build de las librerias de c++ como modulos de python.\n",
    "Analizaremos con mas profunidad estos resultados en el informe dado junto a esta entrega."
   ],
   "cell_type": "markdown",
   "metadata": {}
  },
  {
   "cell_type": "code",
   "execution_count": null,
   "metadata": {},
   "outputs": [],
   "source": [
    "!sh build.sh"
   ]
  },
  {
   "source": [
    "Importamos librerias necesarias\n",
    "\n"
   ],
   "cell_type": "markdown",
   "metadata": {}
  },
  {
   "cell_type": "code",
   "execution_count": 2,
   "metadata": {},
   "outputs": [],
   "source": [
    "import metnum\n",
    "import pandas as pd\n",
    "import numpy as np \n",
    "from sklearn.metrics import accuracy_score\n",
    "from sklearn.datasets import fetch_openml\n",
    "import time\n",
    "from pathlib import Path\n",
    "from utils import get_MNIST_XY\n",
    "import matplotlib.pyplot as plt"
   ]
  },
  {
   "source": [
    "Obtenemos el dataset de mnist, en este caso, solo 10000 elementos por temas de tiempo de ejecucion."
   ],
   "cell_type": "markdown",
   "metadata": {}
  },
  {
   "cell_type": "code",
   "execution_count": 3,
   "metadata": {},
   "outputs": [],
   "source": [
    "X, y = get_MNIST_XY(0.8, 10000)"
   ]
  },
  {
   "source": [
    "Seteamos los k que queremos testear y los distintos K de K-Fold"
   ],
   "cell_type": "markdown",
   "metadata": {}
  },
  {
   "source": [
    "best_ks = [2,3,4,5,6]\n",
    "kfold = [5,10,15,20]"
   ],
   "cell_type": "code",
   "metadata": {},
   "execution_count": null,
   "outputs": []
  },
  {
   "source": [
    "Creamos una matriz de resultados donde guardar estos. En el eje X tendremos los k y en el eje y los K de k-fold. Cada celda representa el rendimiento de ejecutar kNN con ese k, utilizando K-Fold con K."
   ],
   "cell_type": "markdown",
   "metadata": {}
  },
  {
   "cell_type": "code",
   "execution_count": null,
   "metadata": {},
   "outputs": [],
   "source": [
    "resultados = np.zeros((len(best_ks), len(kfold)))"
   ]
  },
  {
   "cell_type": "code",
   "execution_count": null,
   "metadata": {},
   "outputs": [],
   "source": [
    "for index_k, k in enumerate(best_ks):\n",
    "    print(f'Current k: {k}')\n",
    "    for index_K, split in enumerate(kfold):\n",
    "        print(f'Current K: {split}')\n",
    "        kf = KFold(n_splits=split, shuffle=True)\n",
    "        accuracies_by_split = 0\n",
    "        for train_index, test_index in kf.split(X):\n",
    "            X_train, X_test = X[train_index], X[test_index]\n",
    "            y_train, y_test = y[train_index], y[test_index]\n",
    "\n",
    "            clf_metnum = metnum.KNNClassifier(k)\n",
    "            clf_metnum.fit(X_train, y_train)\n",
    "            accuracies_by_split += accuracy_score(clf_metnum.predict(X_test), y_test)\n",
    "\n",
    "        resultados[index_k, index_K]= accuracies_by_split / split"
   ]
  },
  {
   "cell_type": "code",
   "execution_count": null,
   "metadata": {},
   "outputs": [],
   "source": [
    "resultados"
   ]
  },
  {
   "source": [
    "Generamos graficos para mostrar los rendimientos dichos con anterioridad"
   ],
   "cell_type": "markdown",
   "metadata": {}
  },
  {
   "cell_type": "code",
   "execution_count": 6,
   "metadata": {},
   "outputs": [
    {
     "output_type": "error",
     "ename": "NameError",
     "evalue": "name 'resultados' is not defined",
     "traceback": [
      "\u001b[0;31m---------------------------------------------------------------------------\u001b[0m",
      "\u001b[0;31mNameError\u001b[0m                                 Traceback (most recent call last)",
      "\u001b[0;32m<ipython-input-6-877a56452334>\u001b[0m in \u001b[0;36m<module>\u001b[0;34m\u001b[0m\n\u001b[1;32m     13\u001b[0m \u001b[0;34m\u001b[0m\u001b[0m\n\u001b[1;32m     14\u001b[0m \u001b[0;34m\u001b[0m\u001b[0m\n\u001b[0;32m---> 15\u001b[0;31m \u001b[0maccuracies_k_2\u001b[0m \u001b[0;34m=\u001b[0m \u001b[0mresultados\u001b[0m\u001b[0;34m[\u001b[0m\u001b[0;36m0\u001b[0m\u001b[0;34m]\u001b[0m\u001b[0;34m.\u001b[0m\u001b[0mtolist\u001b[0m\u001b[0;34m(\u001b[0m\u001b[0;34m)\u001b[0m\u001b[0;34m\u001b[0m\u001b[0m\n\u001b[0m\u001b[1;32m     16\u001b[0m \u001b[0maccuracies_k_3\u001b[0m\u001b[0;34m=\u001b[0m \u001b[0mresultados\u001b[0m\u001b[0;34m[\u001b[0m\u001b[0;36m1\u001b[0m\u001b[0;34m]\u001b[0m\u001b[0;34m.\u001b[0m\u001b[0mtolist\u001b[0m\u001b[0;34m(\u001b[0m\u001b[0;34m)\u001b[0m\u001b[0;34m\u001b[0m\u001b[0m\n\u001b[1;32m     17\u001b[0m \u001b[0maccuracies_k_4\u001b[0m\u001b[0;34m=\u001b[0m \u001b[0mresultados\u001b[0m\u001b[0;34m[\u001b[0m\u001b[0;36m2\u001b[0m\u001b[0;34m]\u001b[0m\u001b[0;34m.\u001b[0m\u001b[0mtolist\u001b[0m\u001b[0;34m(\u001b[0m\u001b[0;34m)\u001b[0m\u001b[0;34m\u001b[0m\u001b[0m\n",
      "\u001b[0;31mNameError\u001b[0m: name 'resultados' is not defined"
     ]
    }
   ],
   "source": [
    "def graficar(x,y, k):\n",
    "    plt.bar(x, y)\n",
    "    plt.ylabel('Accuracies')\n",
    "    plt.xlabel('Parametro k de kNN')\n",
    "    plt.title(f'Accuracies para k = {k} para distinto K de k-fold')\n",
    "    plt.ylim(0.8)\n",
    "    plt.rc('font', size=20)          # controls default text sizes\n",
    "    for i in range(len(x)):\n",
    "        plt.text(i, y[i], format(y[i], '.3f') , ha = 'center')\n",
    "    \n",
    "    plt.show()"
   ]
  },
  {
   "cell_type": "code",
   "execution_count": null,
   "metadata": {},
   "outputs": [],
   "source": [
    "accuracies_k_2 = resultados[0].tolist()\n",
    "accuracies_k_3= resultados[1].tolist()\n",
    "accuracies_k_4= resultados[2].tolist()\n",
    "accuracies_k_5= resultados[3].tolist()\n",
    "accuracies_k_6= resultados[4].tolist()\n",
    "\n",
    "# Estos resultados fueron obtenidos de experimentos anteriores, dado que no poseen kfold.\n",
    "accuracies_k_2.insert(0, 0.9445) \n",
    "accuracies_k_3.insert(0, 0.9455)\n",
    "accuracies_k_4.insert(0, 0.9455)\n",
    "accuracies_k_5.insert(0, 0.9445)\n",
    "accuracies_k_6.insert(0, 0.9455)\n",
    "\n",
    "graficar(Kfolds, accuracies_k_3, 3)\n",
    "graficar(Kfolds, accuracies_k_4, 4)\n",
    "graficar(Kfolds, accuracies_k_5, 5)\n",
    "graficar(Kfolds, accuracies_k_6, 6)"
   ]
  }
 ]
}