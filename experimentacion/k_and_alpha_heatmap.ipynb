{
 "cells": [
  {
   "cell_type": "markdown",
   "id": "d440d57f",
   "metadata": {},
   "source": [
    "Primero corremos un script para el build de las librerias de c++ como modulos de python."
   ]
  },
  {
   "cell_type": "code",
   "execution_count": null,
   "id": "decb5de0",
   "metadata": {},
   "outputs": [],
   "source": [
    "!sh build.sh"
   ]
  },
  {
   "cell_type": "markdown",
   "id": "86043d3a",
   "metadata": {},
   "source": [
    "Importamos librerias necesarias"
   ]
  },
  {
   "cell_type": "code",
   "execution_count": 1,
   "id": "939f69df",
   "metadata": {},
   "outputs": [],
   "source": [
    "from pathlib import Path\n",
    "import matplotlib.pyplot as plt\n",
    "import numpy as np\n",
    "import metnum\n",
    "import pandas as pd\n",
    "import seaborn as sns\n",
    "from sklearn.metrics import accuracy_score\n",
    "from sklearn.datasets import fetch_openml\n",
    "import time"
   ]
  },
  {
   "cell_type": "markdown",
   "id": "e0627d80",
   "metadata": {},
   "source": [
    "Obtenemos el dataset de MNIST que contiene 70000 imagenes, partido en 4/5 de entrenamiento y 1/5 de validacion. El mismo esta shuffleado sobre si mismo."
   ]
  },
  {
   "cell_type": "code",
   "execution_count": null,
   "id": "83b62ff6",
   "metadata": {},
   "outputs": [],
   "source": [
    "#CAMBIAR ESTE Y BEST_KNN PARA QUE USEN GET_MNIST DEL UTILS\n",
    "X, y = fetch_openml('mnist_784', version=1, return_X_y=True)\n",
    "y = y.astype(int)\n",
    "X = X.astype(int)\n",
    "\n",
    "indxs = np.random.choice(len(y), 70000, replace=False)\n",
    "new_y = [ y[idx] for idx in indxs ]\n",
    "new_X = [ X[idx] for idx in indxs ]\n",
    "X, y = np.array(new_X), np.array(new_y)\n",
    "\n",
    "limit = int(0.8 * X.shape[0]) \n",
    "\n",
    "X_train, y_train = X[:limit], y[:limit]\n",
    "X_val, y_val = X[limit:], y[limit:]\n",
    "\n",
    "assert len(X_train) == len(y_train)\n",
    "assert len(X_val) == len(y_val)\n",
    "\n",
    "print(f\"Ahora tengo {len(X_train)} instancias de entrenamiento y {len(X_val)} de validación\")"
   ]
  },
  {
   "cell_type": "markdown",
   "id": "a0f60047",
   "metadata": {},
   "source": [
    "Ahora buscamos tenemos como objetivo buscar el mejor par de alpha (PCA) y k (kNN). Para esto tomamos los mejores alphas que encontramos en relación a su accuracy y performance y para cada ejecutamos el algoritmo con distintos valores de k"
   ]
  },
  {
   "cell_type": "code",
   "execution_count": null,
   "id": "8d8ac935",
   "metadata": {},
   "outputs": [],
   "source": [
    "acc_heatmap = np.zeros((8, 13))\n",
    "duration_heatmap = np.zeros((8, 13))\n",
    "for i, alpha in enumerate([16,17,19,20,21,22,23,24]):\n",
    "    print(alpha)\n",
    "    for j, k in enumerate([1,2,3,4,5,6,7,8,9,10,100,200,1000]):\n",
    "        print(k)\n",
    "        start =  time.process_time()\n",
    "        pca = metnum.PCA(alpha)\n",
    "        pca.fit(X_train)\n",
    "        X_train_PCA = pca.transform(X_train)\n",
    "\n",
    "        X_val_PCA = pca.transform(X_val)\n",
    "\n",
    "        clf_metnum = metnum.KNNClassifier(k)\n",
    "        clf_metnum.fit(X_train_PCA, y_train)\n",
    "        clf_mentum_predicted = clf_metnum.predict(X_val_PCA)\n",
    "        end = time.process_time()\n",
    "        time_performance = end - start\n",
    "        acc = accuracy_score(clf_mentum_predicted, y_val)\n",
    "        acc_heatmap[i, j] = acc\n",
    "        duration_heatmap[i, j] = time_performance"
   ]
  },
  {
   "cell_type": "code",
   "execution_count": null,
   "id": "78872a51",
   "metadata": {},
   "outputs": [],
   "source": [
    "acc_heatmap"
   ]
  },
  {
   "cell_type": "code",
   "execution_count": null,
   "id": "a51085c5",
   "metadata": {},
   "outputs": [],
   "source": [
    "duration_heatmap"
   ]
  },
  {
   "cell_type": "markdown",
   "id": "b66780fa",
   "metadata": {},
   "source": [
    "Una vez que tenemos nuestras matrices de accuracy y performance cuyas celdas representan la combinacion de un k con un alpha, graficamos los resultados en un heatmap. Primero, la accuracy:"
   ]
  },
  {
   "cell_type": "code",
   "execution_count": null,
   "id": "9721af25",
   "metadata": {},
   "outputs": [],
   "source": [
    "df = pd.DataFrame(acc_heatmap, columns=[1,2,3,4,5,6,7,8,9,10,100,200,1000], index=[16,17,19,20,21,22,23,24])\n",
    "\n",
    "ax = sns.heatmap(df, vmin=0.85, vmax=1, annot=True, fmt='.3f')\n",
    "ax.set_xlabel(\"k\")\n",
    "ax.set_ylabel(\"alpha\")\n",
    "plt.title('Accuracy para distintas combinaciones de k y alpha')\n",
    "plt.show()"
   ]
  },
  {
   "cell_type": "markdown",
   "id": "5a805b99",
   "metadata": {},
   "source": [
    "Luego, la relación (ratio) entre accuracy y performance, tambien para cada combinación entre k y alpha:"
   ]
  },
  {
   "cell_type": "code",
   "execution_count": null,
   "id": "4ba06313",
   "metadata": {},
   "outputs": [],
   "source": [
    "df = pd.DataFrame(acc_heatmap / duration_heatmap, columns=[1,2,3,4,5,6,7,8,9,10,100,200,1000], index=[16,17,19,20,21,22,23,24])\n",
    "\n",
    "ax = sns.heatmap(df, annot=True, fmt='.3f')\n",
    "ax.set_xlabel(\"k\")\n",
    "ax.set_ylabel(\"alpha\")\n",
    "plt.title('Ratio Accuracy/Duration para distintas combinaciones de k y alpha')\n",
    "plt.show()"
   ]
  }
 ],
 "metadata": {
  "kernelspec": {
   "display_name": "Python 3",
   "language": "python",
   "name": "python3"
  },
  "language_info": {
   "codemirror_mode": {
    "name": "ipython",
    "version": 3
   },
   "file_extension": ".py",
   "mimetype": "text/x-python",
   "name": "python",
   "nbconvert_exporter": "python",
   "pygments_lexer": "ipython3",
   "version": "3.9.5"
  }
 },
 "nbformat": 4,
 "nbformat_minor": 5
}
