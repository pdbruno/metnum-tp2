{
 "metadata": {
  "language_info": {
   "codemirror_mode": {
    "name": "ipython",
    "version": 3
   },
   "file_extension": ".py",
   "mimetype": "text/x-python",
   "name": "python",
   "nbconvert_exporter": "python",
   "pygments_lexer": "ipython3",
   "version": "3.6.5"
  },
  "orig_nbformat": 2,
  "kernelspec": {
   "name": "python365jvsc74a57bd08932031cf73a8e410f3edc8e8ac179c9fba9335faf5d1d5aae65c3865f890a7e",
   "display_name": "Python 3.6.5 64-bit ('tp2': conda)"
  }
 },
 "nbformat": 4,
 "nbformat_minor": 2,
 "cells": [
  {
   "source": [
    "Primero corremos un script para el build de las librerias de c++ como modulos de python."
   ],
   "cell_type": "markdown",
   "metadata": {}
  },
  {
   "cell_type": "code",
   "execution_count": null,
   "metadata": {},
   "outputs": [],
   "source": [
    "!sh build.sh"
   ]
  },
  {
   "source": [
    "Importamos librerias necesarias"
   ],
   "cell_type": "markdown",
   "metadata": {}
  },
  {
   "cell_type": "code",
   "execution_count": null,
   "metadata": {},
   "outputs": [],
   "source": [
    "import metnum\n",
    "import pandas as pd\n",
    "import numpy as np \n",
    "from sklearn.metrics import accuracy_score\n",
    "from sklearn.datasets import fetch_openml\n",
    "import time\n",
    "from pathlib import Path\n",
    "from utils import get_MNIST\n",
    "import matplotlib.pyplot as plt"
   ]
  },
  {
   "source": [
    "Obtenemos el dataset de mnist, partido en 4/5 de entrenamiento y 1/5 de validacion. El mismo esta shuffleado sobre si mismo."
   ],
   "cell_type": "markdown",
   "metadata": {}
  },
  {
   "cell_type": "code",
   "execution_count": null,
   "metadata": {},
   "outputs": [],
   "source": [
    "X_train, y_train, X_val, y_val = get_MNIST(0.8)\n",
    "\n",
    "print(f\"Ahora tengo {len(X_train)} instancias de entrenamiento y {len(X_val)} de validación\")"
   ]
  },
  {
   "source": [
    "Seteamos la cantidad de alphas a testear (siempre comenzando de 1)"
   ],
   "cell_type": "markdown",
   "metadata": {}
  },
  {
   "cell_type": "code",
   "execution_count": 71,
   "metadata": {},
   "outputs": [],
   "source": [
    "alphas_a_testear = 20\n",
    "k = 3"
   ]
  },
  {
   "source": [
    "Ejecutamos el loop con k para cada alpha, guardamos los resultados en accuracy_con_pca y performance"
   ],
   "cell_type": "markdown",
   "metadata": {}
  },
  {
   "cell_type": "code",
   "execution_count": null,
   "metadata": {},
   "outputs": [],
   "source": [
    "accuracy_con_pca = []\n",
    "performance = []\n",
    "for i in range(1, alphas_a_testear):\n",
    "    start =  time.process_time()\n",
    "\n",
    "    pca = metnum.PCA(i)\n",
    "    pca.fit(X_train)\n",
    "    X_train_PCA = pca.transform(X_train)\n",
    "\n",
    "    X_val_PCA = pca.transform(X_val)\n",
    "\n",
    "    clf_metnum = metnum.KNNClassifier(k)\n",
    "    clf_metnum.fit(X_train_PCA, y_train)\n",
    "    acc = accuracy_score(clf_metnum.predict(X_val_PCA), y_val)\n",
    "    end = time.process_time()\n",
    "\n",
    "    time_performance = end - start\n",
    "    accuracy_con_pca.append(acc)\n",
    "    performance.append(time_performance)"
   ]
  },
  {
   "cell_type": "code",
   "execution_count": null,
   "metadata": {},
   "outputs": [],
   "source": [
    "accuracy_con_pca"
   ]
  },
  {
   "cell_type": "code",
   "execution_count": null,
   "metadata": {},
   "outputs": [],
   "source": [
    "performance"
   ]
  },
  {
   "source": [
    "Generamos un grafico mostrando el ratio accuracy/performance por cada alpha"
   ],
   "cell_type": "markdown",
   "metadata": {}
  },
  {
   "cell_type": "code",
   "execution_count": null,
   "metadata": {},
   "outputs": [],
   "source": [
    "plt.plot(np.array(accuracy_con_pca) / np.array(performance), '-o')\n",
    "plt.xlabel('Alpha')\n",
    "plt.ylabel('Accuracy / Performance(segundos) ')\n",
    "plt.xticks(range(1, alphas_a_testear))\n",
    "plt.title(f'Accuracy / Performance de kNN + PCA para k = {k} y alpha hasta {alphas_a_testear}')\n",
    "plt.show()"
   ]
  },
  {
   "source": [
    "Generamos un grafico. Arriba, tenemos accuracy por cada alpha y abajo su performance."
   ],
   "cell_type": "markdown",
   "metadata": {}
  },
  {
   "cell_type": "code",
   "execution_count": null,
   "metadata": {},
   "outputs": [],
   "source": [
    "f, (ax1, ax2) = plt.subplots(2, 1, sharex=True)\n",
    "ax1.plot(range(1, alphas_a_testear), accuracy_con_pca, '-o')\n",
    "ax2.plot(range(1, alphas_a_testear), performance, '-o')\n",
    "ax1.set_title(f'Accuracy y performance de kNN + PCA para k = {k} y alpha de 1 a {alphas_a_testear}')\n",
    "ax2.set_xlabel('Alpha')\n",
    "ax2.set_ylabel('Performance (segundos)')\n",
    "ax1.set_ylabel('Accuracy')\n",
    "plt.show()"
   ]
  }
 ]
}